{
 "cells": [
  {
   "cell_type": "code",
   "execution_count": null,
   "id": "602962e6-1c66-45f8-81d2-ed2bddf9f54f",
   "metadata": {},
   "outputs": [],
   "source": [
    "import pandas as pd\n",
    "import numpy as np"
   ]
  },
  {
   "cell_type": "code",
   "execution_count": null,
   "id": "a32fe540-2d3f-4f6a-9198-72549a9cea83",
   "metadata": {},
   "outputs": [],
   "source": [
    "df = pd.read_csv(\"autos.csv\",low_memory=False)"
   ]
  },
  {
   "cell_type": "code",
   "execution_count": null,
   "id": "7dd14afd-02dd-4680-84c1-4f30485158af",
   "metadata": {},
   "outputs": [],
   "source": [
    "df.head(10)"
   ]
  },
  {
   "cell_type": "code",
   "execution_count": null,
   "id": "296165e2-ad30-4cfb-a02e-d6f46b5a436a",
   "metadata": {},
   "outputs": [],
   "source": [
    "df.columns"
   ]
  },
  {
   "cell_type": "code",
   "execution_count": null,
   "id": "d5e419cc-e1de-4a67-a509-c611a9658faa",
   "metadata": {},
   "outputs": [],
   "source": [
    "list(df.columns)"
   ]
  },
  {
   "cell_type": "code",
   "execution_count": null,
   "id": "302ea997-811d-4a67-b982-8e1ebacdeb45",
   "metadata": {},
   "outputs": [],
   "source": [
    "df.dtypes"
   ]
  },
  {
   "cell_type": "code",
   "execution_count": null,
   "id": "662283eb-ae77-4b72-aa68-0744661e4ff0",
   "metadata": {},
   "outputs": [],
   "source": [
    "#df[\"Ménages sans voiture\"].astype(float) # erreur car 'nc'"
   ]
  },
  {
   "cell_type": "code",
   "execution_count": null,
   "id": "334f45ce-4003-45c3-8975-21d5d09d8131",
   "metadata": {},
   "outputs": [],
   "source": [
    "df[\"Ménages sans voiture\"].value_counts()"
   ]
  },
  {
   "cell_type": "code",
   "execution_count": null,
   "id": "c4dc16b2-d3bd-4996-af27-ec0592d7a279",
   "metadata": {},
   "outputs": [],
   "source": [
    "df.loc[df[\"Ménages sans voiture\"].astype(str).str.contains('nc',na=False),\"Ménages sans voiture\"] = np.nan"
   ]
  },
  {
   "cell_type": "code",
   "execution_count": null,
   "id": "78e8cf82-5500-49fc-b331-d6882eb52cac",
   "metadata": {},
   "outputs": [],
   "source": [
    "df.loc[df[\"Nombre total d'accidents\"].astype(str).str.contains('nc',na=False),\"Nombre total d'accidents\"] = np.nan"
   ]
  },
  {
   "cell_type": "code",
   "execution_count": null,
   "id": "c99af81a-80bc-451f-9b0f-307ea3069312",
   "metadata": {},
   "outputs": [],
   "source": [
    "df[\"Ménages sans voiture\"].astype(float)"
   ]
  },
  {
   "cell_type": "code",
   "execution_count": null,
   "id": "3dfb68e9-935c-4f25-919e-026b664ed8ad",
   "metadata": {},
   "outputs": [],
   "source": [
    "df[\"Nombre total d'accidents\"].astype(float)"
   ]
  },
  {
   "cell_type": "code",
   "execution_count": null,
   "id": "e2b6e15c-b99e-4a05-9ee9-60d173ba0168",
   "metadata": {},
   "outputs": [],
   "source": [
    "for col in list(df.columns):\n",
    "    if col != 'ville' and col != 'lien' and col != 'lienAccidents':\n",
    "        df.loc[df[col].astype(str).str.contains('nc',na=False),col] = np.nan"
   ]
  },
  {
   "cell_type": "code",
   "execution_count": null,
   "id": "2fafb071-7e1c-452c-a5ad-1903b4944124",
   "metadata": {},
   "outputs": [],
   "source": [
    "for col in list(df.columns):\n",
    "    if col != 'ville' and col != 'lien' and col != 'lienAccidents':\n",
    "        df[col] = df[col].astype(float)"
   ]
  },
  {
   "cell_type": "code",
   "execution_count": null,
   "id": "927d49cb-f0b2-43f2-8b44-1439aa3ba239",
   "metadata": {},
   "outputs": [],
   "source": [
    "df.dtypes"
   ]
  },
  {
   "cell_type": "code",
   "execution_count": null,
   "id": "9d88f8e6-78b2-468a-80b8-d91dbf566b97",
   "metadata": {},
   "outputs": [],
   "source": [
    "df.to_csv(\"autos.csv\")"
   ]
  },
  {
   "cell_type": "code",
   "execution_count": null,
   "id": "3692e050-5c46-47b0-9720-6365ddd0444c",
   "metadata": {},
   "outputs": [],
   "source": []
  }
 ],
 "metadata": {
  "kernelspec": {
   "display_name": "Python 3 (ipykernel)",
   "language": "python",
   "name": "python3"
  },
  "language_info": {
   "codemirror_mode": {
    "name": "ipython",
    "version": 3
   },
   "file_extension": ".py",
   "mimetype": "text/x-python",
   "name": "python",
   "nbconvert_exporter": "python",
   "pygments_lexer": "ipython3",
   "version": "3.11.2"
  }
 },
 "nbformat": 4,
 "nbformat_minor": 5
}
